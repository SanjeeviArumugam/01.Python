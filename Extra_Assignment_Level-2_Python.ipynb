{
 "cells": [
  {
   "cell_type": "code",
   "execution_count": 1,
   "id": "140e2c1d-5a3c-4b51-a470-209933e03439",
   "metadata": {},
   "outputs": [
    {
     "name": "stdout",
     "output_type": "stream",
     "text": [
      "0\n",
      "1\n",
      "2\n",
      "3\n",
      "4\n",
      "5\n",
      "6\n",
      "7\n",
      "8\n",
      "9\n",
      "10\n",
      "11\n",
      "12\n",
      "13\n",
      "14\n",
      "15\n",
      "16\n",
      "17\n",
      "18\n",
      "19\n"
     ]
    }
   ],
   "source": [
    "for num in range (0,20):\n",
    "    print(num)"
   ]
  },
  {
   "cell_type": "code",
   "execution_count": 5,
   "id": "fddac739-4376-4e30-b586-86a227726317",
   "metadata": {},
   "outputs": [
    {
     "name": "stdout",
     "output_type": "stream",
     "text": [
      "10 11 12 13 14 15 16 17 18 19 "
     ]
    }
   ],
   "source": [
    "for num in range (10,20):\n",
    "    print(num, end=' ')"
   ]
  },
  {
   "cell_type": "code",
   "execution_count": 9,
   "id": "4e1c5f65-5f41-4029-b397-b78409fc2c03",
   "metadata": {},
   "outputs": [
    {
     "name": "stdout",
     "output_type": "stream",
     "text": [
      "[10, 20, 14, 55, 43, 87, 76]\n",
      "number of items in the list: 7\n"
     ]
    }
   ],
   "source": [
    "list = [10,20,14,55,43,87,76]\n",
    "print (list)\n",
    "print (\"number of items in the list:\", len(list))\n"
   ]
  },
  {
   "cell_type": "code",
   "execution_count": 25,
   "id": "17ceb360-3258-4113-8496-a2ee93123c0f",
   "metadata": {},
   "outputs": [
    {
     "name": "stdout",
     "output_type": "stream",
     "text": [
      "ARTIFICIAL INTELLIGENCE\n",
      "A\n",
      "R\n",
      "T\n",
      "I\n",
      "F\n",
      "I\n",
      "C\n",
      "I\n",
      "A\n",
      "L\n",
      " \n",
      "I\n",
      "N\n",
      "T\n",
      "E\n",
      "L\n",
      "L\n",
      "I\n",
      "G\n",
      "E\n",
      "N\n",
      "C\n",
      "E\n"
     ]
    }
   ],
   "source": [
    "school = 'ARTIFICIAL INTELLIGENCE'\n",
    "print (school)\n",
    "for letters in school:\n",
    "    print (letters)"
   ]
  },
  {
   "cell_type": "code",
   "execution_count": 27,
   "id": "b6c02ae6-6f5f-46f3-9544-aaa996d75463",
   "metadata": {},
   "outputs": [
    {
     "name": "stdin",
     "output_type": "stream",
     "text": [
      "Your Name- Sanjeevi\n",
      "Your age- 33\n",
      "Your Profession- CAE Analyst\n"
     ]
    }
   ],
   "source": [
    "A= input (\"Your Name-\")\n",
    "B= input (\"Your age-\")\n",
    "C= input (\"Your Profession-\")"
   ]
  },
  {
   "cell_type": "code",
   "execution_count": 39,
   "id": "16fc6ec7-5dc3-4ab7-87e5-bd490bf06f3e",
   "metadata": {},
   "outputs": [
    {
     "name": "stdout",
     "output_type": "stream",
     "text": [
      "(1, 'Welcome', 2, 'Hope')\n"
     ]
    }
   ],
   "source": [
    "List = (1, 'Welcome', 2, 'Hope')\n",
    "print (List)"
   ]
  },
  {
   "cell_type": "code",
   "execution_count": 41,
   "id": "8f333ff0-0609-41b8-922f-1f3eae9dc41b",
   "metadata": {},
   "outputs": [
    {
     "name": "stdout",
     "output_type": "stream",
     "text": [
      "(0, 1, 2, 3, 'Python', 'HOPE')\n"
     ]
    }
   ],
   "source": [
    "List1 = (0,1,2,3)\n",
    "List2 = ('Python','HOPE')\n",
    "List3 = List1 + List2\n",
    "print (List3)"
   ]
  },
  {
   "cell_type": "code",
   "execution_count": 79,
   "id": "2618f60d-cb61-432d-baaa-6520c5977919",
   "metadata": {},
   "outputs": [
    {
     "name": "stdout",
     "output_type": "stream",
     "text": [
      "19 - Odd number\n",
      "25 - Odd number\n",
      "1 - Odd number\n"
     ]
    }
   ],
   "source": [
    "numbers = [20,10,16,19,25,1,276,188]\n",
    "for num in numbers:\n",
    "    if num %2 ==1:\n",
    "        print (f\"{num} - Odd number\")"
   ]
  },
  {
   "cell_type": "code",
   "execution_count": 81,
   "id": "e1851a6a-260d-4ff4-b371-19389b224b79",
   "metadata": {},
   "outputs": [
    {
     "name": "stdout",
     "output_type": "stream",
     "text": [
      "20 - Even number\n",
      "10 - Even number\n",
      "16 - Even number\n",
      "276 - Even number\n",
      "188 - Even number\n"
     ]
    }
   ],
   "source": [
    "numbers = [20,10,16,19,25,1,276,188]\n",
    "for num in numbers:\n",
    "    if num %2 ==0:\n",
    "        print (f\"{num} - Even number\")"
   ]
  },
  {
   "cell_type": "code",
   "execution_count": null,
   "id": "b678551a-3d8c-449e-8e2f-231b4e71f1a1",
   "metadata": {},
   "outputs": [],
   "source": []
  }
 ],
 "metadata": {
  "kernelspec": {
   "display_name": "Python 3 (ipykernel)",
   "language": "python",
   "name": "python3"
  },
  "language_info": {
   "codemirror_mode": {
    "name": "ipython",
    "version": 3
   },
   "file_extension": ".py",
   "mimetype": "text/x-python",
   "name": "python",
   "nbconvert_exporter": "python",
   "pygments_lexer": "ipython3",
   "version": "3.12.4"
  }
 },
 "nbformat": 4,
 "nbformat_minor": 5
}
