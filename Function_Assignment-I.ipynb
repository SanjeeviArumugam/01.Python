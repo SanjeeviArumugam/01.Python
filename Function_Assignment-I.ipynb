{
 "cells": [
  {
   "cell_type": "code",
   "execution_count": 1,
   "id": "dd0bd654-5316-456d-b9a3-ed4c2da640ff",
   "metadata": {},
   "outputs": [
    {
     "name": "stdout",
     "output_type": "stream",
     "text": [
      "Sub-fields in AI are:\n",
      "Machine Learning\n",
      "Neural Network\n",
      "Vision\n",
      "Robotics\n",
      "Speech Processing\n",
      "Natural Language Proecessing\n"
     ]
    }
   ],
   "source": [
    "def list_in_AI_subfields():\n",
    "    subfields = [\n",
    "        \"Machine Learning\",\n",
    "        \"Neural Network\",\n",
    "        \"Vision\",\n",
    "        \"Robotics\",\n",
    "        \"Speech Processing\",\n",
    "        \"Natural Language Proecessing\"\n",
    "    ]\n",
    "    print(\"Sub-fields in AI are:\")\n",
    "    for field in subfields:\n",
    "        print(field)\n",
    "list_in_AI_subfields()"
   ]
  },
  {
   "cell_type": "code",
   "execution_count": 28,
   "id": "6bc5c672-eb03-46ae-a05b-4df19e88f5ab",
   "metadata": {},
   "outputs": [
    {
     "name": "stdin",
     "output_type": "stream",
     "text": [
      "enter the number: 52452\n"
     ]
    },
    {
     "name": "stdout",
     "output_type": "stream",
     "text": [
      "52452 is even number\n"
     ]
    }
   ],
   "source": [
    "def oddEven():\n",
    "    num=int(input(\"enter the number:\"))\n",
    "    if((num%2)==1):\n",
    "        print(f\"{num} is odd number\")\n",
    "    else:\n",
    "        print(f\"{num} is even number\")\n",
    "oddEven()"
   ]
  },
  {
   "cell_type": "code",
   "execution_count": 9,
   "id": "b0c9b1e3-f39a-4fde-b75a-10a69890edce",
   "metadata": {},
   "outputs": [
    {
     "name": "stdin",
     "output_type": "stream",
     "text": [
      "Your Gender: Male\n",
      "Your age: 20\n"
     ]
    },
    {
     "name": "stdout",
     "output_type": "stream",
     "text": [
      "Not Eligible\n"
     ]
    }
   ],
   "source": [
    "def eligibilty_of_marriage():\n",
    "    Gender = input (\"Your Gender:\")\n",
    "    Age = int (input(\"Your age:\"))\n",
    "    if (Gender==\"Male\" and Age>21):\n",
    "        print(\"Eligible\")\n",
    "    elif(Gender==\"Female\" and Age>18):\n",
    "        print(\"Eligible\")\n",
    "    else:\n",
    "        print(\"Not Eligible\")\n",
    "eligibilty_of_marriage()"
   ]
  },
  {
   "cell_type": "code",
   "execution_count": 36,
   "id": "4e6010ac-404e-4c31-93f2-05179d01b242",
   "metadata": {},
   "outputs": [
    {
     "name": "stdin",
     "output_type": "stream",
     "text": [
      "subject1: 98\n",
      "subject2: 87\n",
      "subject3: 95\n",
      "subject4: 95\n",
      "subject5: 93\n"
     ]
    },
    {
     "name": "stdout",
     "output_type": "stream",
     "text": [
      "Total: 468.0\n",
      "percentage: 93.60000000000001\n"
     ]
    }
   ],
   "source": [
    "def Findpercentage():\n",
    "    subject1=float(input(\"subject1:\"))\n",
    "    subject2=float(input(\"subject2:\"))\n",
    "    subject3=float(input(\"subject3:\"))\n",
    "    subject4=float(input(\"subject4:\"))\n",
    "    subject5=float(input(\"subject5:\"))\n",
    "    total_mark = subject1+subject2+subject3+subject4+subject5\n",
    "    percentage = (total_mark/500)*100\n",
    "    print(f\"Total: {total_mark}\")\n",
    "    print(f\"percentage: {percentage}\")\n",
    "Findpercentage()"
   ]
  },
  {
   "cell_type": "code",
   "execution_count": 58,
   "id": "f167a2b8-b312-419b-8209-4a656bd2b377",
   "metadata": {},
   "outputs": [
    {
     "name": "stdin",
     "output_type": "stream",
     "text": [
      "height: 32\n",
      "breadth: 34\n"
     ]
    },
    {
     "name": "stdout",
     "output_type": "stream",
     "text": [
      "Area formula: (Height*breadth)/2\n",
      "Area of Triangle: 544.0\n"
     ]
    },
    {
     "name": "stdin",
     "output_type": "stream",
     "text": [
      "height1 for perimeter: 2\n",
      "height2 for perimeter: 4\n",
      "breadth for perimeter: 4\n"
     ]
    },
    {
     "name": "stdout",
     "output_type": "stream",
     "text": [
      "Perimeter formula: height1 + height2 + Breadth\n",
      "Perimeter of Triangle: 10.0\n"
     ]
    }
   ],
   "source": [
    "def area_of_triangle(height, breadth):\n",
    "    area=(height*breadth)/2\n",
    "    return area\n",
    "def perimeter_of_triangle(height1, height2, breadth):\n",
    "    perimeter= height1 + height2 + breadth\n",
    "    return perimeter\n",
    "height=float(input(\"height:\"))\n",
    "breadth=float(input(\"breadth:\"))\n",
    "area=area_of_triangle(height, breadth)\n",
    "print(f\"Area formula: (Height*breadth)/2\")\n",
    "print(f\"Area of Triangle: {area}\")\n",
    "height1=float(input(\"height1 for perimeter:\"))\n",
    "height2=float(input(\"height2 for perimeter:\"))\n",
    "breadth=float(input(\"breadth for perimeter:\"))\n",
    "perimeter=perimeter_of_triangle(height1, height2, breadth)\n",
    "print(f\"Perimeter formula: height1 + height2 + Breadth\")\n",
    "print(f\"Perimeter of Triangle: {perimeter}\")"
   ]
  },
  {
   "cell_type": "code",
   "execution_count": null,
   "id": "32f5db65-096e-4aa6-abe8-2b9a81974e56",
   "metadata": {},
   "outputs": [],
   "source": []
  }
 ],
 "metadata": {
  "kernelspec": {
   "display_name": "Python 3 (ipykernel)",
   "language": "python",
   "name": "python3"
  },
  "language_info": {
   "codemirror_mode": {
    "name": "ipython",
    "version": 3
   },
   "file_extension": ".py",
   "mimetype": "text/x-python",
   "name": "python",
   "nbconvert_exporter": "python",
   "pygments_lexer": "ipython3",
   "version": "3.12.4"
  }
 },
 "nbformat": 4,
 "nbformat_minor": 5
}
