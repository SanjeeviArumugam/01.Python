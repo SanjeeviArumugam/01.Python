{
 "cells": [
  {
   "cell_type": "code",
   "execution_count": 1,
   "id": "f602071c-dd43-4bc2-8a72-0cf9b5723833",
   "metadata": {},
   "outputs": [
    {
     "name": "stdout",
     "output_type": "stream",
     "text": [
      "Welcome to Assignment-1\n"
     ]
    }
   ],
   "source": [
    "print (\"Welcome to Assignment-1\")"
   ]
  },
  {
   "cell_type": "code",
   "execution_count": 3,
   "id": "b060df23-6641-40e7-ba95-6203d545e6e8",
   "metadata": {},
   "outputs": [
    {
     "name": "stdin",
     "output_type": "stream",
     "text": [
      "Num1= 10\n",
      "Num2= 30\n"
     ]
    },
    {
     "name": "stdout",
     "output_type": "stream",
     "text": [
      "Add= 40\n"
     ]
    }
   ],
   "source": [
    "Num1= int(input (\"Num1=\"))\n",
    "Num2= int(input (\"Num2=\"))\n",
    "Add = (Num1+Num2)\n",
    "print (\"Add=\",Add)"
   ]
  },
  {
   "cell_type": "code",
   "execution_count": 11,
   "id": "b0d6b7d9-d05d-46b8-b48c-f789fe5bb6b5",
   "metadata": {},
   "outputs": [
    {
     "name": "stdin",
     "output_type": "stream",
     "text": [
      "Enter the BMI Index: 34\n"
     ]
    },
    {
     "name": "stdout",
     "output_type": "stream",
     "text": [
      "Very Over weight\n"
     ]
    }
   ],
   "source": [
    "BMI = int (input(\"Enter the BMI Index:\"))\n",
    "if (BMI<18):\n",
    "    print (\"Under weight\")\n",
    "elif (BMI<25):\n",
    "    print (\"Normal\")\n",
    "else:\n",
    "    print (\"Very Over weight\")\n"
   ]
  },
  {
   "cell_type": "code",
   "execution_count": null,
   "id": "afbcf526-6fe4-4545-8530-fde7713d11bc",
   "metadata": {},
   "outputs": [],
   "source": []
  }
 ],
 "metadata": {
  "kernelspec": {
   "display_name": "Python 3 (ipykernel)",
   "language": "python",
   "name": "python3"
  },
  "language_info": {
   "codemirror_mode": {
    "name": "ipython",
    "version": 3
   },
   "file_extension": ".py",
   "mimetype": "text/x-python",
   "name": "python",
   "nbconvert_exporter": "python",
   "pygments_lexer": "ipython3",
   "version": "3.12.4"
  }
 },
 "nbformat": 4,
 "nbformat_minor": 5
}
