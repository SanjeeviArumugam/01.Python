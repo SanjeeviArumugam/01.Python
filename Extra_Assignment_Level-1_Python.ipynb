{
 "cells": [
  {
   "cell_type": "code",
   "execution_count": 1,
   "id": "6bb8a4b5-e83f-42e1-bdfb-735d206c2553",
   "metadata": {},
   "outputs": [
    {
     "name": "stdout",
     "output_type": "stream",
     "text": [
      "HOPE AI\n"
     ]
    }
   ],
   "source": [
    "print (\"HOPE AI\")"
   ]
  },
  {
   "cell_type": "code",
   "execution_count": 3,
   "id": "2dee2d78-1fd5-4508-a98d-a4cbec0016b4",
   "metadata": {},
   "outputs": [
    {
     "name": "stdin",
     "output_type": "stream",
     "text": [
      "Enter your institute name: HOPE AI\n"
     ]
    }
   ],
   "source": [
    "X = input (\"Enter your institute name:\")"
   ]
  },
  {
   "cell_type": "code",
   "execution_count": 5,
   "id": "3b23053e-809d-4163-8a78-b2374c67b93a",
   "metadata": {},
   "outputs": [
    {
     "name": "stdin",
     "output_type": "stream",
     "text": [
      "Enter your name: SANJEEVI ARUMUGAM\n",
      "Enter your age: 33\n",
      "Enter your School name: IRTT\n",
      "Enter your degree: BE MECHANICAL\n"
     ]
    }
   ],
   "source": [
    "A= input (\"Enter your name:\")\n",
    "B= int (input(\"Enter your age:\"))\n",
    "C= input (\"Enter your School name:\")\n",
    "D= input (\"Enter your degree:\")"
   ]
  },
  {
   "cell_type": "code",
   "execution_count": 9,
   "id": "8a3d455d-e7aa-42d9-b313-673dfcc50599",
   "metadata": {},
   "outputs": [
    {
     "name": "stdin",
     "output_type": "stream",
     "text": [
      "a= 43\n",
      "b= 34\n"
     ]
    },
    {
     "name": "stdout",
     "output_type": "stream",
     "text": [
      "add= 77\n"
     ]
    }
   ],
   "source": [
    "Addition1 = int (input(\"a=\"))\n",
    "Addition2 = int (input(\"b=\"))\n",
    "add = Addition1 + Addition2\n",
    "print (\"add=\",add)"
   ]
  },
  {
   "cell_type": "code",
   "execution_count": 11,
   "id": "3077a946-2697-4dba-9080-882424ee92b1",
   "metadata": {},
   "outputs": [
    {
     "name": "stdin",
     "output_type": "stream",
     "text": [
      "a= 43\n",
      "b= 34\n"
     ]
    },
    {
     "name": "stdout",
     "output_type": "stream",
     "text": [
      "Sub= 9\n"
     ]
    }
   ],
   "source": [
    "Sub1 = int (input(\"a=\"))\n",
    "Sub2 = int (input(\"b=\"))\n",
    "Sub = Sub1 - Sub2\n",
    "print (\"Sub=\",Sub)"
   ]
  },
  {
   "cell_type": "code",
   "execution_count": 13,
   "id": "1aff7398-d360-4287-bd98-f10f509b19a9",
   "metadata": {},
   "outputs": [
    {
     "name": "stdin",
     "output_type": "stream",
     "text": [
      "a= 63\n",
      "b= 97\n"
     ]
    },
    {
     "name": "stdout",
     "output_type": "stream",
     "text": [
      "Mul= 6111\n"
     ]
    }
   ],
   "source": [
    "Mul1 = int (input(\"a=\"))\n",
    "Mul2 = int (input(\"b=\"))\n",
    "Mul = Mul1 * Mul2\n",
    "print (\"Mul=\",Mul)"
   ]
  },
  {
   "cell_type": "code",
   "execution_count": 29,
   "id": "7ddc0ed6-8f51-46fb-9969-c506942faecc",
   "metadata": {},
   "outputs": [
    {
     "name": "stdin",
     "output_type": "stream",
     "text": [
      "a= 76\n",
      "b= 31\n"
     ]
    },
    {
     "name": "stdout",
     "output_type": "stream",
     "text": [
      "FloatDiv= 2.4516129032258065\n"
     ]
    }
   ],
   "source": [
    "Div1 = int (input(\"a=\"))\n",
    "Div2 = int (input(\"b=\"))\n",
    "FloatDiv = Div1 / Div2\n",
    "print (\"FloatDiv=\",FloatDiv)"
   ]
  },
  {
   "cell_type": "code",
   "execution_count": 31,
   "id": "54949378-9b24-446f-841c-30f8b7572aee",
   "metadata": {},
   "outputs": [
    {
     "name": "stdin",
     "output_type": "stream",
     "text": [
      "a= 76\n",
      "b= 31\n"
     ]
    },
    {
     "name": "stdout",
     "output_type": "stream",
     "text": [
      "FloatDiv= 2\n"
     ]
    }
   ],
   "source": [
    "Div1 = int (input(\"a=\"))\n",
    "Div2 = int (input(\"b=\"))\n",
    "FloatDiv = Div1 // Div2\n",
    "print (\"FloatDiv=\",FloatDiv)"
   ]
  },
  {
   "cell_type": "code",
   "execution_count": 35,
   "id": "2acf4832-5016-4b5d-9b0b-071ad124756e",
   "metadata": {},
   "outputs": [
    {
     "name": "stdin",
     "output_type": "stream",
     "text": [
      "a= 76\n",
      "b= 31\n"
     ]
    },
    {
     "name": "stdout",
     "output_type": "stream",
     "text": [
      "Modulo= 14\n"
     ]
    }
   ],
   "source": [
    "Modulo1 = int (input(\"a=\"))\n",
    "Modulo2 = int (input(\"b=\"))\n",
    "Modulo = Modulo1 % Modulo2\n",
    "print (\"Modulo=\",Modulo)"
   ]
  },
  {
   "cell_type": "code",
   "execution_count": 37,
   "id": "76e6ea1b-ed52-4914-a02c-263a30c3edfb",
   "metadata": {},
   "outputs": [
    {
     "name": "stdin",
     "output_type": "stream",
     "text": [
      "a= 4\n",
      "b= 4\n"
     ]
    },
    {
     "name": "stdout",
     "output_type": "stream",
     "text": [
      "Power= 256\n"
     ]
    }
   ],
   "source": [
    "Power1 = int (input(\"a=\"))\n",
    "Power2 = int (input(\"b=\"))\n",
    "Power = Power1 ** Power2\n",
    "print (\"Power=\",Power)"
   ]
  },
  {
   "cell_type": "code",
   "execution_count": null,
   "id": "dc0dd95f-a8f9-4329-ac12-f34ccf6671db",
   "metadata": {},
   "outputs": [],
   "source": []
  }
 ],
 "metadata": {
  "kernelspec": {
   "display_name": "Python 3 (ipykernel)",
   "language": "python",
   "name": "python3"
  },
  "language_info": {
   "codemirror_mode": {
    "name": "ipython",
    "version": 3
   },
   "file_extension": ".py",
   "mimetype": "text/x-python",
   "name": "python",
   "nbconvert_exporter": "python",
   "pygments_lexer": "ipython3",
   "version": "3.12.4"
  }
 },
 "nbformat": 4,
 "nbformat_minor": 5
}
