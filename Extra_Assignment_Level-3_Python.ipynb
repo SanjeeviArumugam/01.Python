{
 "cells": [
  {
   "cell_type": "code",
   "execution_count": 7,
   "id": "afd45f2f-034d-48fc-850f-8a7e3090abef",
   "metadata": {},
   "outputs": [
    {
     "name": "stdin",
     "output_type": "stream",
     "text": [
      "value: 10\n"
     ]
    },
    {
     "name": "stdout",
     "output_type": "stream",
     "text": [
      "Correct\n"
     ]
    }
   ],
   "source": [
    "number = int (input (\"value:\"))\n",
    "if number==10:\n",
    "    print (\"Correct\")\n",
    "else:\n",
    "    print (\"Incorrect\")"
   ]
  },
  {
   "cell_type": "code",
   "execution_count": 9,
   "id": "0265ccff-747d-40b4-aff6-6d7196757384",
   "metadata": {},
   "outputs": [
    {
     "name": "stdin",
     "output_type": "stream",
     "text": [
      "enter the password is: HOPE@123\n"
     ]
    },
    {
     "name": "stdout",
     "output_type": "stream",
     "text": [
      "Your password is correct\n"
     ]
    }
   ],
   "source": [
    "correct_password = \"HOPE@123\"\n",
    "user_password = input (\"enter the password is:\")\n",
    "if (user_password == correct_password ):\n",
    "    print (\"Your password is correct\")\n",
    "else:\n",
    "    print (\"Your password is correct\")"
   ]
  },
  {
   "cell_type": "code",
   "execution_count": 3,
   "id": "f2503468-875a-4eaf-9671-7c43f4ab4f3a",
   "metadata": {},
   "outputs": [
    {
     "name": "stdin",
     "output_type": "stream",
     "text": [
      "age: 20\n"
     ]
    },
    {
     "name": "stdout",
     "output_type": "stream",
     "text": [
      "Adult\n"
     ]
    }
   ],
   "source": [
    "age = int (input(\"age:\"))\n",
    "if (age<9):\n",
    "    print (\"Childern\")\n",
    "elif (age<35):\n",
    "    print (\"Adult\")\n",
    "elif (age<59):\n",
    "    print (\"Citizen\")\n",
    "else:\n",
    "    print (\"Senior citizen\")"
   ]
  },
  {
   "cell_type": "code",
   "execution_count": 15,
   "id": "107e1d56-6c74-415a-8d90-d1107fc061c7",
   "metadata": {},
   "outputs": [
    {
     "name": "stdin",
     "output_type": "stream",
     "text": [
      "enter the number: 1\n"
     ]
    },
    {
     "name": "stdout",
     "output_type": "stream",
     "text": [
      "The number is positive\n"
     ]
    }
   ],
   "source": [
    "Number = int (input (\"enter the number:\"))\n",
    "if (Number>0):\n",
    "    print (\"The number is positive\")\n",
    "else:\n",
    "    print (\"The number is negative\")"
   ]
  },
  {
   "cell_type": "code",
   "execution_count": 17,
   "id": "9e18a31b-c3cb-447b-8ac8-87ddc4e97dfb",
   "metadata": {},
   "outputs": [
    {
     "name": "stdin",
     "output_type": "stream",
     "text": [
      "Enter a number to check: 22\n"
     ]
    },
    {
     "name": "stdout",
     "output_type": "stream",
     "text": [
      "No is not divisible by 5\n"
     ]
    }
   ],
   "source": [
    "Number = int (input (\"Enter a number to check:\"))\n",
    "if ((Number%5)==0):\n",
    "    print (\"No is divisible by 5\")\n",
    "else:\n",
    "    print (\"No is not divisible by 5\")"
   ]
  },
  {
   "cell_type": "code",
   "execution_count": null,
   "id": "7f3a26e5-77ed-4816-b936-c31f08f05fa2",
   "metadata": {},
   "outputs": [],
   "source": []
  }
 ],
 "metadata": {
  "kernelspec": {
   "display_name": "Python 3 (ipykernel)",
   "language": "python",
   "name": "python3"
  },
  "language_info": {
   "codemirror_mode": {
    "name": "ipython",
    "version": 3
   },
   "file_extension": ".py",
   "mimetype": "text/x-python",
   "name": "python",
   "nbconvert_exporter": "python",
   "pygments_lexer": "ipython3",
   "version": "3.12.4"
  }
 },
 "nbformat": 4,
 "nbformat_minor": 5
}
